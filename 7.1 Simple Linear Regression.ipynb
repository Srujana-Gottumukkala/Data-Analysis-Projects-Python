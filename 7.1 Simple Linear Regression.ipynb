{
 "cells": [
  {
   "cell_type": "markdown",
   "id": "21b698dc-41c5-417b-bd8b-4ea2f486cd6f",
   "metadata": {
    "panel-layout": {
     "height": 50.82386016845703,
     "visible": true,
     "width": 100
    }
   },
   "source": [
    "## Simple Linear Regression"
   ]
  },
  {
   "cell_type": "markdown",
   "id": "7f03d9fc-3882-4349-837c-8d302601eab7",
   "metadata": {
    "panel-layout": {
     "height": 44.07670211791992,
     "visible": true,
     "width": 100
    }
   },
   "source": [
    "### Data Pre-processing"
   ]
  },
  {
   "cell_type": "code",
   "execution_count": 9,
   "id": "f6ed1b3d-dcae-4846-ad6c-743b4a3cd9ab",
   "metadata": {},
   "outputs": [],
   "source": [
    "# Importing the libraries\n",
    "import numpy as np\n",
    "import matplotlib.pyplot as plt\n",
    "import pandas as pd"
   ]
  },
  {
   "cell_type": "code",
   "execution_count": 10,
   "id": "5c25d68f-4624-4c7f-a5f6-514ddc30df4e",
   "metadata": {},
   "outputs": [],
   "source": [
    "# Importing the dataset\n",
    "dataset = pd.read_csv(r'C:\\Users\\sruja\\Spyder\\Salary_Data.csv')   "
   ]
  },
  {
   "cell_type": "code",
   "execution_count": 11,
   "id": "57718b6e-fec8-42bc-9284-a0f7a6adebb5",
   "metadata": {},
   "outputs": [],
   "source": [
    "# Dependent and independent variables\n",
    "x = dataset.iloc[:,:-1]\n",
    "y = dataset.iloc[:,-1]"
   ]
  },
  {
   "cell_type": "code",
   "execution_count": 12,
   "id": "c3f1a745-973c-4ec4-a634-43484c059561",
   "metadata": {},
   "outputs": [],
   "source": [
    "from sklearn.model_selection import train_test_split\n",
    "x_train, x_test, y_train, y_test = train_test_split(x,y,test_size = 0.20, random_state=0)"
   ]
  },
  {
   "cell_type": "code",
   "execution_count": 13,
   "id": "95f5a630-6462-459e-b512-73b8dad60564",
   "metadata": {},
   "outputs": [],
   "source": [
    "x_train = x_train.values.reshape(-1,1)\n",
    "x_test = x_test.values.reshape(-1,1)"
   ]
  },
  {
   "cell_type": "markdown",
   "id": "7b5620f4-516a-4397-9fc3-5138f87b85d1",
   "metadata": {
    "panel-layout": {
     "height": 44.07670211791992,
     "visible": true,
     "width": 100
    }
   },
   "source": [
    "### Model Building"
   ]
  },
  {
   "cell_type": "code",
   "execution_count": 15,
   "id": "e82d1d7a-9e72-4a5e-a0a5-0420b1419859",
   "metadata": {},
   "outputs": [],
   "source": [
    "from sklearn.linear_model import LinearRegression\n",
    "regressor = LinearRegression()\n",
    "regressor.fit(x_train, y_train)\n",
    "y_pred = regressor.predict(x_test)"
   ]
  },
  {
   "cell_type": "code",
   "execution_count": 16,
   "id": "95f60830-a36f-49f9-b949-b3dac5bc3d61",
   "metadata": {
    "panel-layout": {
     "height": 700.9942626953125,
     "visible": true,
     "width": 100
    }
   },
   "outputs": [
    {
     "data": {
      "image/png": "[encoded data removed]",
      "text/plain": [
       "<Figure size 640x480 with 1 Axes>"
      ]
     },
     "metadata": {},
     "output_type": "display_data"
    }
   ],
   "source": [
    "plt.scatter(x_test, y_test, color = 'red')  # Real salary data\n",
    "plt.plot(x_train, regressor.predict(x_train), color = 'blue')\n",
    "plt.title('Salary vs Experience (Test set)')\n",
    "plt.xlabel('Year of Experience')\n",
    "plt.ylabel('Salary')\n",
    "plt.show()"
   ]
  },
  {
   "cell_type": "markdown",
   "id": "abfc49e7-dfdb-4669-9398-540cbf670355",
   "metadata": {
    "panel-layout": {
     "height": 44.07670211791992,
     "visible": true,
     "width": 100
    }
   },
   "source": [
    "### Prediction"
   ]
  },
  {
   "cell_type": "code",
   "execution_count": 18,
   "id": "dad3ad28-d27c-4a73-9e52-43a3f6df3a40",
   "metadata": {},
   "outputs": [
    {
     "name": "stdout",
     "output_type": "stream",
     "text": [
      "[9312.57512673]\n",
      "26780.09915062818\n"
     ]
    }
   ],
   "source": [
    "m_slope = regressor.coef_\n",
    "print(m_slope)\n",
    "\n",
    "c_inter = regressor.intercept_\n",
    "print(c_inter)\n",
    "\n",
    "# Using Linear Regression\n",
    "y_15 = m_slope*15 + c_inter  # predicting the salary for 15 years experienced\n",
    "y_20 = m_slope*20 + c_inter  # predicting the salary for 20 years experienced"
   ]
  },
  {
   "cell_type": "code",
   "execution_count": 19,
   "id": "70ff2d85-c862-43ec-ab7b-bf91c38621cb",
   "metadata": {
    "panel-layout": {
     "height": 700.9942626953125,
     "visible": true,
     "width": 100
    }
   },
   "outputs": [
    {
     "name": "stdout",
     "output_type": "stream",
     "text": [
      "    Actual      Predicted\n",
      "2    37731   40748.961841\n",
      "28  122391  122699.622956\n",
      "13   57081   64961.657170\n",
      "10   63218   63099.142145\n",
      "26  116969  115249.562855\n",
      "24  109431  107799.502753\n"
     ]
    }
   ],
   "source": [
    "# Compare the predicted and the actual salaries\n",
    "comparison = pd.DataFrame({'Actual': y_test, 'Predicted':y_pred})\n",
    "print(comparison)"
   ]
  },
  {
   "cell_type": "code",
   "execution_count": 20,
   "id": "d1412255-29f4-4b63-b068-f7d03c792a04",
   "metadata": {
    "panel-layout": {
     "height": 791.5056762695312,
     "visible": true,
     "width": 100
    }
   },
   "outputs": [
    {
     "data": {
      "text/plain": [
       "YearsExperience       0.518125\n",
       "Salary             5005.167198\n",
       "dtype: float64"
      ]
     },
     "execution_count": 20,
     "metadata": {},
     "output_type": "execute_result"
    }
   ],
   "source": [
    "dataset.mean()\n",
    "dataset['Salary'].mean()\n",
    "dataset['Salary'].mode()\n",
    "dataset.describe()\n",
    "dataset.var()\n",
    "dataset.std()\n",
    "dataset.corr()\n",
    "dataset['Salary'].corr(dataset['YearsExperience'])\n",
    "dataset.skew()\n",
    "dataset['Salary'].skew()\n",
    "dataset.sem()     # standard error of entire dataset"
   ]
  },
  {
   "cell_type": "code",
   "execution_count": 21,
   "id": "910ec5ec-a771-4eea-bbbc-4fe6db554fd5",
   "metadata": {
    "panel-layout": {
     "height": 1534.460205078125,
     "visible": true,
     "width": 100
    }
   },
   "outputs": [
    {
     "data": {
      "text/plain": [
       "0    -1.360113\n",
       "1    -1.105527\n",
       "2    -1.419919\n",
       "3    -1.204957\n",
       "4    -1.339781\n",
       "5    -0.718307\n",
       "6    -0.588158\n",
       "7    -0.799817\n",
       "8    -0.428810\n",
       "9    -0.698013\n",
       "10   -0.474333\n",
       "11   -0.749769\n",
       "12   -0.706620\n",
       "13   -0.702020\n",
       "14   -0.552504\n",
       "15   -0.299217\n",
       "16   -0.370043\n",
       "17    0.262859\n",
       "18    0.198860\n",
       "19    0.665476\n",
       "20    0.583780\n",
       "21    0.826233\n",
       "22    0.938611\n",
       "23    1.402741\n",
       "24    1.240203\n",
       "25    1.097402\n",
       "26    1.519868\n",
       "27    1.359074\n",
       "28    1.721028\n",
       "29    1.701773\n",
       "Name: Salary, dtype: float64"
      ]
     },
     "execution_count": 21,
     "metadata": {},
     "output_type": "execute_result"
    }
   ],
   "source": [
    "# z-score\n",
    "import scipy.stats as stats\n",
    "dataset.apply(stats.zscore)  # z-score of entire dataset\n",
    "stats.zscore(dataset['Salary']) # z-score of a particular column"
   ]
  },
  {
   "cell_type": "code",
   "execution_count": 22,
   "id": "21daff6e-e44a-4b3c-a7a6-79c0be4ec53c",
   "metadata": {
    "panel-layout": {
     "height": 700.9942626953125,
     "visible": true,
     "width": 100
    }
   },
   "outputs": [
    {
     "name": "stdout",
     "output_type": "stream",
     "text": [
      "6263152884.28413\n"
     ]
    }
   ],
   "source": [
    "# ssr \n",
    "y_mean = np.mean(y)\n",
    "SSR = np.sum((y_pred-y_mean)**2)\n",
    "print(SSR)"
   ]
  },
  {
   "cell_type": "code",
   "execution_count": 23,
   "id": "ad2e4d67-a06e-49c3-84fc-1e275d08e0a9",
   "metadata": {
    "panel-layout": {
     "height": 700.9942626953125,
     "visible": true,
     "width": 100
    }
   },
   "outputs": [
    {
     "name": "stdout",
     "output_type": "stream",
     "text": [
      "15274062883.943203\n"
     ]
    }
   ],
   "source": [
    "#sse\n",
    "y = y[0:6]\n",
    "SSE = np.sum((y-y_pred)**2)\n",
    "print(SSE)"
   ]
  },
  {
   "cell_type": "code",
   "execution_count": 24,
   "id": "445199ff-adaa-4e5b-894f-e8bf59074022",
   "metadata": {
    "panel-layout": {
     "height": 700.9942626953125,
     "visible": true,
     "width": 100
    }
   },
   "outputs": [
    {
     "name": "stdout",
     "output_type": "stream",
     "text": [
      "108429703765.82735\n"
     ]
    }
   ],
   "source": [
    "#sst \n",
    "mean_total = np.mean(dataset.values) # here df.to_numpy()will convert pandas Dataframe to Nump\n",
    "SST = np.sum((dataset.values-mean_total)**2)\n",
    "print(SST)"
   ]
  },
  {
   "cell_type": "code",
   "execution_count": 28,
   "id": "30586d7b-7b5b-45aa-8911-6f33fafaf0f0",
   "metadata": {
    "panel-layout": {
     "height": 728.13916015625,
     "visible": true,
     "width": 100
    }
   },
   "outputs": [
    {
     "data": {
      "text/plain": [
       "0.9422376648947554"
      ]
     },
     "execution_count": 28,
     "metadata": {},
     "output_type": "execute_result"
    }
   ],
   "source": [
    "#r2 \n",
    "r_square = 1 - SSR/SST\n",
    "r_square"
   ]
  },
  {
   "cell_type": "markdown",
   "id": "4925be46-9518-4727-a2e0-b78e2e9f2307",
   "metadata": {
    "panel-layout": {
     "height": 51.12215805053711,
     "visible": true,
     "width": 100
    }
   },
   "source": [
    "**R² (r-squared) is close to 1, the model explains most of the variability of the dependent variable**"
   ]
  },
  {
   "cell_type": "code",
   "execution_count": 26,
   "id": "fea7cab5-36f1-4337-945d-1ae6a6dcc416",
   "metadata": {
    "panel-layout": {
     "height": 700.9942626953125,
     "visible": true,
     "width": 100
    }
   },
   "outputs": [
    {
     "name": "stdout",
     "output_type": "stream",
     "text": [
      "0.9411949620562126\n"
     ]
    }
   ],
   "source": [
    "bias = regressor.score(x_train, y_train)\n",
    "print(bias)"
   ]
  },
  {
   "cell_type": "code",
   "execution_count": 27,
   "id": "0e8f47f6-6f9b-49a1-824c-b7e28286c23a",
   "metadata": {
    "panel-layout": {
     "height": 700.9942626953125,
     "visible": true,
     "width": 100
    }
   },
   "outputs": [
    {
     "name": "stdout",
     "output_type": "stream",
     "text": [
      "0.988169515729126\n"
     ]
    }
   ],
   "source": [
    "variance = regressor.score(x_test, y_test)\n",
    "print(variance)"
   ]
  },
  {
   "cell_type": "markdown",
   "id": "cc0580af-1b6f-4fec-b1a5-7a650fb0dbb6",
   "metadata": {
    "panel-layout": {
     "height": 51.12215805053711,
     "visible": true,
     "width": 100
    }
   },
   "source": [
    "Based on the bias and varaince for our model, we can say that it is a best-fit model."
   ]
  }
 ],
 "metadata": {
  "kernelspec": {
   "display_name": "Python 3 (ipykernel)",
   "language": "python",
   "name": "python3"
  },
  "language_info": {
   "codemirror_mode": {
    "name": "ipython",
    "version": 3
   },
   "file_extension": ".py",
   "mimetype": "text/x-python",
   "name": "python",
   "nbconvert_exporter": "python",
   "pygments_lexer": "ipython3",
   "version": "3.9.21"
  },
  "panel-cell-order": [
   "21b698dc-41c5-417b-bd8b-4ea2f486cd6f",
   "7f03d9fc-3882-4349-837c-8d302601eab7",
   "7b5620f4-516a-4397-9fc3-5138f87b85d1",
   "95f60830-a36f-49f9-b949-b3dac5bc3d61",
   "abfc49e7-dfdb-4669-9398-540cbf670355",
   "70ff2d85-c862-43ec-ab7b-bf91c38621cb",
   "d1412255-29f4-4b63-b068-f7d03c792a04",
   "910ec5ec-a771-4eea-bbbc-4fe6db554fd5",
   "21daff6e-e44a-4b3c-a7a6-79c0be4ec53c",
   "ad2e4d67-a06e-49c3-84fc-1e275d08e0a9",
   "445199ff-adaa-4e5b-894f-e8bf59074022",
   "30586d7b-7b5b-45aa-8911-6f33fafaf0f0",
   "4925be46-9518-4727-a2e0-b78e2e9f2307",
   "fea7cab5-36f1-4337-945d-1ae6a6dcc416",
   "0e8f47f6-6f9b-49a1-824c-b7e28286c23a",
   "cc0580af-1b6f-4fec-b1a5-7a650fb0dbb6"
  ]
 },
 "nbformat": 4,
 "nbformat_minor": 5
}
